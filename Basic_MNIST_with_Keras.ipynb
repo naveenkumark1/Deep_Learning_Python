{
  "nbformat": 4,
  "nbformat_minor": 0,
  "metadata": {
    "colab": {
      "name": "Untitled2.ipynb",
      "provenance": [],
      "collapsed_sections": [],
      "include_colab_link": true
    },
    "kernelspec": {
      "name": "python3",
      "display_name": "Python 3"
    },
    "accelerator": "GPU"
  },
  "cells": [
    {
      "cell_type": "markdown",
      "metadata": {
        "id": "view-in-github",
        "colab_type": "text"
      },
      "source": [
        "<a href=\"https://colab.research.google.com/github/naveenkumark1/Deep_Learning_Python/blob/master/Basic_MNIST_with_Keras.ipynb\" target=\"_parent\"><img src=\"https://colab.research.google.com/assets/colab-badge.svg\" alt=\"Open In Colab\"/></a>"
      ]
    },
    {
      "cell_type": "code",
      "metadata": {
        "id": "DnTCTt5znbGD",
        "colab_type": "code",
        "colab": {}
      },
      "source": [
        "## Basic MNIST with Keras"
      ],
      "execution_count": 0,
      "outputs": []
    },
    {
      "cell_type": "code",
      "metadata": {
        "id": "5R2IMtpkng9Q",
        "colab_type": "code",
        "colab": {}
      },
      "source": [
        "#import tensorflow.compat.v1 as tf\n",
        "#tf.disable_v2_behavior()"
      ],
      "execution_count": 0,
      "outputs": []
    },
    {
      "cell_type": "code",
      "metadata": {
        "id": "FAvPxl2Qp3_f",
        "colab_type": "code",
        "colab": {}
      },
      "source": [
        "# Load the MNIST data set from Keras library"
      ],
      "execution_count": 0,
      "outputs": []
    },
    {
      "cell_type": "code",
      "metadata": {
        "id": "B5WCi2XFnhVH",
        "colab_type": "code",
        "colab": {
          "base_uri": "https://localhost:8080/",
          "height": 79
        },
        "outputId": "17eeecf4-5d69-4323-f0b7-03d484fb2b88"
      },
      "source": [
        "from keras.datasets import mnist"
      ],
      "execution_count": 4,
      "outputs": [
        {
          "output_type": "stream",
          "text": [
            "Using TensorFlow backend.\n"
          ],
          "name": "stderr"
        },
        {
          "output_type": "display_data",
          "data": {
            "text/html": [
              "<p style=\"color: red;\">\n",
              "The default version of TensorFlow in Colab will soon switch to TensorFlow 2.x.<br>\n",
              "We recommend you <a href=\"https://www.tensorflow.org/guide/migrate\" target=\"_blank\">upgrade</a> now \n",
              "or ensure your notebook will continue to use TensorFlow 1.x via the <code>%tensorflow_version 1.x</code> magic:\n",
              "<a href=\"https://colab.research.google.com/notebooks/tensorflow_version.ipynb\" target=\"_blank\">more info</a>.</p>\n"
            ],
            "text/plain": [
              "<IPython.core.display.HTML object>"
            ]
          },
          "metadata": {
            "tags": []
          }
        }
      ]
    },
    {
      "cell_type": "code",
      "metadata": {
        "id": "caEB78Z0p3Hx",
        "colab_type": "code",
        "colab": {}
      },
      "source": [
        "# Load the data in to train and test variables"
      ],
      "execution_count": 0,
      "outputs": []
    },
    {
      "cell_type": "code",
      "metadata": {
        "id": "8myJEqt8oQFV",
        "colab_type": "code",
        "colab": {
          "base_uri": "https://localhost:8080/",
          "height": 50
        },
        "outputId": "c09e0cd4-ddf6-4aa6-8521-c68755df7cd0"
      },
      "source": [
        "(train_images,train_labels),(test_images,test_labels) = mnist.load_data()"
      ],
      "execution_count": 6,
      "outputs": [
        {
          "output_type": "stream",
          "text": [
            "Downloading data from https://s3.amazonaws.com/img-datasets/mnist.npz\n",
            "11493376/11490434 [==============================] - 1s 0us/step\n"
          ],
          "name": "stdout"
        }
      ]
    },
    {
      "cell_type": "code",
      "metadata": {
        "id": "CveT85jkq8q6",
        "colab_type": "code",
        "colab": {}
      },
      "source": [
        "# Check the train data image and label details"
      ],
      "execution_count": 0,
      "outputs": []
    },
    {
      "cell_type": "code",
      "metadata": {
        "id": "yTwwTZAKoQH3",
        "colab_type": "code",
        "colab": {
          "base_uri": "https://localhost:8080/",
          "height": 34
        },
        "outputId": "657e07e8-3d3c-432f-bc0a-429e64143f65"
      },
      "source": [
        "train_images.shape"
      ],
      "execution_count": 7,
      "outputs": [
        {
          "output_type": "execute_result",
          "data": {
            "text/plain": [
              "(60000, 28, 28)"
            ]
          },
          "metadata": {
            "tags": []
          },
          "execution_count": 7
        }
      ]
    },
    {
      "cell_type": "code",
      "metadata": {
        "id": "57qentT_oQNB",
        "colab_type": "code",
        "colab": {
          "base_uri": "https://localhost:8080/",
          "height": 34
        },
        "outputId": "6631812f-c9ee-4968-aca3-ca4f3094d37d"
      },
      "source": [
        "len(train_labels)"
      ],
      "execution_count": 8,
      "outputs": [
        {
          "output_type": "execute_result",
          "data": {
            "text/plain": [
              "60000"
            ]
          },
          "metadata": {
            "tags": []
          },
          "execution_count": 8
        }
      ]
    },
    {
      "cell_type": "code",
      "metadata": {
        "id": "p5TCWZCOoQLf",
        "colab_type": "code",
        "colab": {
          "base_uri": "https://localhost:8080/",
          "height": 34
        },
        "outputId": "31fbd6ca-ee44-4701-f85a-f90ac7e6c73a"
      },
      "source": [
        "test_images.shape"
      ],
      "execution_count": 9,
      "outputs": [
        {
          "output_type": "execute_result",
          "data": {
            "text/plain": [
              "(10000, 28, 28)"
            ]
          },
          "metadata": {
            "tags": []
          },
          "execution_count": 9
        }
      ]
    },
    {
      "cell_type": "code",
      "metadata": {
        "id": "Oq9A_6IdoQC_",
        "colab_type": "code",
        "colab": {
          "base_uri": "https://localhost:8080/",
          "height": 34
        },
        "outputId": "dbabbeda-566b-4af7-a36f-60502f55658c"
      },
      "source": [
        "len(test_labels)"
      ],
      "execution_count": 10,
      "outputs": [
        {
          "output_type": "execute_result",
          "data": {
            "text/plain": [
              "10000"
            ]
          },
          "metadata": {
            "tags": []
          },
          "execution_count": 10
        }
      ]
    },
    {
      "cell_type": "code",
      "metadata": {
        "id": "x5dTodjerIpM",
        "colab_type": "code",
        "colab": {}
      },
      "source": [
        "# In the above code train images will have the 0 - 255 values for every pixel of 28X28 image and associated with a label from 0 to 9"
      ],
      "execution_count": 0,
      "outputs": []
    },
    {
      "cell_type": "code",
      "metadata": {
        "id": "nE_jnJZPrIr9",
        "colab_type": "code",
        "colab": {}
      },
      "source": [
        "# Initially we will ue the train data to feed the network and make it learn then we can use the test data to test the capability of the network"
      ],
      "execution_count": 0,
      "outputs": []
    },
    {
      "cell_type": "code",
      "metadata": {
        "id": "hAY-jsSdrI2c",
        "colab_type": "code",
        "colab": {}
      },
      "source": [
        "from keras import models "
      ],
      "execution_count": 0,
      "outputs": []
    },
    {
      "cell_type": "code",
      "metadata": {
        "id": "C7AcUCqPrI-C",
        "colab_type": "code",
        "colab": {}
      },
      "source": [
        "from keras import layers"
      ],
      "execution_count": 0,
      "outputs": []
    },
    {
      "cell_type": "code",
      "metadata": {
        "id": "CfmWdJJ4rJAv",
        "colab_type": "code",
        "colab": {}
      },
      "source": [
        "network = models.Sequential()  # S capital"
      ],
      "execution_count": 0,
      "outputs": []
    },
    {
      "cell_type": "code",
      "metadata": {
        "id": "jZ1pguM_rI7-",
        "colab_type": "code",
        "colab": {
          "base_uri": "https://localhost:8080/",
          "height": 104
        },
        "outputId": "38aac5ea-043a-4181-99ed-e4163c152342"
      },
      "source": [
        "network.add(layers.Dense(512, activation = 'relu', input_shape=(28*28,)))"
      ],
      "execution_count": 20,
      "outputs": [
        {
          "output_type": "stream",
          "text": [
            "WARNING:tensorflow:From /usr/local/lib/python3.6/dist-packages/keras/backend/tensorflow_backend.py:541: The name tf.placeholder is deprecated. Please use tf.compat.v1.placeholder instead.\n",
            "\n",
            "WARNING:tensorflow:From /usr/local/lib/python3.6/dist-packages/keras/backend/tensorflow_backend.py:4432: The name tf.random_uniform is deprecated. Please use tf.random.uniform instead.\n",
            "\n"
          ],
          "name": "stdout"
        }
      ]
    },
    {
      "cell_type": "code",
      "metadata": {
        "id": "RB4DtNVCrI6E",
        "colab_type": "code",
        "colab": {}
      },
      "source": [
        "network.add(layers.Dense(10,activation ='softmax'))"
      ],
      "execution_count": 0,
      "outputs": []
    },
    {
      "cell_type": "code",
      "metadata": {
        "id": "czTkueKFrIzz",
        "colab_type": "code",
        "colab": {}
      },
      "source": [
        "network.compile(metrics=['accuracy'],loss='categorical_crossentropy',optimizer='rmsprop')   ## Metrics is passed a vector"
      ],
      "execution_count": 0,
      "outputs": []
    },
    {
      "cell_type": "code",
      "metadata": {
        "id": "kBw6BhjxrIx2",
        "colab_type": "code",
        "colab": {}
      },
      "source": [
        "# Since the MNIST has values from 0 to 225 we will normalise it to bring it between 0 to 1"
      ],
      "execution_count": 0,
      "outputs": []
    },
    {
      "cell_type": "code",
      "metadata": {
        "id": "CXZtYLn5rIv1",
        "colab_type": "code",
        "colab": {}
      },
      "source": [
        "train_images = train_images.reshape((60000,28*28))"
      ],
      "execution_count": 0,
      "outputs": []
    },
    {
      "cell_type": "code",
      "metadata": {
        "id": "isVGMAiEwNxF",
        "colab_type": "code",
        "colab": {}
      },
      "source": [
        "train_images = train_images.astype('float32')/255"
      ],
      "execution_count": 0,
      "outputs": []
    },
    {
      "cell_type": "code",
      "metadata": {
        "id": "d5bfRdKDwNz9",
        "colab_type": "code",
        "colab": {}
      },
      "source": [
        "test_images = test_images.reshape((10000, 28*28))"
      ],
      "execution_count": 0,
      "outputs": []
    },
    {
      "cell_type": "code",
      "metadata": {
        "id": "cfMutJTrwN3n",
        "colab_type": "code",
        "colab": {}
      },
      "source": [
        "test_images = test_images.astype('float32')/255"
      ],
      "execution_count": 0,
      "outputs": []
    },
    {
      "cell_type": "code",
      "metadata": {
        "id": "goeNPsWpwNur",
        "colab_type": "code",
        "colab": {}
      },
      "source": [
        "# Categorically encoding the labels "
      ],
      "execution_count": 0,
      "outputs": []
    },
    {
      "cell_type": "code",
      "metadata": {
        "id": "vBZOjoWqwNsM",
        "colab_type": "code",
        "colab": {}
      },
      "source": [
        "from keras.utils import to_categorical"
      ],
      "execution_count": 0,
      "outputs": []
    },
    {
      "cell_type": "code",
      "metadata": {
        "id": "vxv0DboVwNpO",
        "colab_type": "code",
        "colab": {}
      },
      "source": [
        "train_labels = to_categorical(train_labels)"
      ],
      "execution_count": 0,
      "outputs": []
    },
    {
      "cell_type": "code",
      "metadata": {
        "id": "WBYMpvhoxLT4",
        "colab_type": "code",
        "colab": {}
      },
      "source": [
        "test_labels = to_categorical(test_labels)"
      ],
      "execution_count": 0,
      "outputs": []
    },
    {
      "cell_type": "code",
      "metadata": {
        "id": "9jnuvpv_xLW6",
        "colab_type": "code",
        "colab": {
          "base_uri": "https://localhost:8080/",
          "height": 1000
        },
        "outputId": "e3f8657c-4661-4d3a-ef7d-faa1e15550f9"
      },
      "source": [
        "network.fit(train_images, train_labels, epochs= 25, batch_size= 128)"
      ],
      "execution_count": 35,
      "outputs": [
        {
          "output_type": "stream",
          "text": [
            "WARNING:tensorflow:From /usr/local/lib/python3.6/dist-packages/tensorflow_core/python/ops/math_grad.py:1424: where (from tensorflow.python.ops.array_ops) is deprecated and will be removed in a future version.\n",
            "Instructions for updating:\n",
            "Use tf.where in 2.0, which has the same broadcast rule as np.where\n",
            "WARNING:tensorflow:From /usr/local/lib/python3.6/dist-packages/keras/backend/tensorflow_backend.py:1033: The name tf.assign_add is deprecated. Please use tf.compat.v1.assign_add instead.\n",
            "\n",
            "WARNING:tensorflow:From /usr/local/lib/python3.6/dist-packages/keras/backend/tensorflow_backend.py:1020: The name tf.assign is deprecated. Please use tf.compat.v1.assign instead.\n",
            "\n",
            "WARNING:tensorflow:From /usr/local/lib/python3.6/dist-packages/keras/backend/tensorflow_backend.py:3005: The name tf.Session is deprecated. Please use tf.compat.v1.Session instead.\n",
            "\n",
            "Epoch 1/25\n",
            "WARNING:tensorflow:From /usr/local/lib/python3.6/dist-packages/keras/backend/tensorflow_backend.py:190: The name tf.get_default_session is deprecated. Please use tf.compat.v1.get_default_session instead.\n",
            "\n",
            "WARNING:tensorflow:From /usr/local/lib/python3.6/dist-packages/keras/backend/tensorflow_backend.py:197: The name tf.ConfigProto is deprecated. Please use tf.compat.v1.ConfigProto instead.\n",
            "\n",
            "WARNING:tensorflow:From /usr/local/lib/python3.6/dist-packages/keras/backend/tensorflow_backend.py:207: The name tf.global_variables is deprecated. Please use tf.compat.v1.global_variables instead.\n",
            "\n",
            "WARNING:tensorflow:From /usr/local/lib/python3.6/dist-packages/keras/backend/tensorflow_backend.py:216: The name tf.is_variable_initialized is deprecated. Please use tf.compat.v1.is_variable_initialized instead.\n",
            "\n",
            "WARNING:tensorflow:From /usr/local/lib/python3.6/dist-packages/keras/backend/tensorflow_backend.py:223: The name tf.variables_initializer is deprecated. Please use tf.compat.v1.variables_initializer instead.\n",
            "\n",
            "60000/60000 [==============================] - 11s 178us/step - loss: 0.2599 - acc: 0.9244\n",
            "Epoch 2/25\n",
            "60000/60000 [==============================] - 2s 34us/step - loss: 0.1045 - acc: 0.9694\n",
            "Epoch 3/25\n",
            "60000/60000 [==============================] - 2s 37us/step - loss: 0.0689 - acc: 0.9794\n",
            "Epoch 4/25\n",
            "60000/60000 [==============================] - 2s 34us/step - loss: 0.0491 - acc: 0.9854\n",
            "Epoch 5/25\n",
            "60000/60000 [==============================] - 2s 36us/step - loss: 0.0370 - acc: 0.9890\n",
            "Epoch 6/25\n",
            "60000/60000 [==============================] - 2s 34us/step - loss: 0.0283 - acc: 0.9918\n",
            "Epoch 7/25\n",
            "60000/60000 [==============================] - 2s 35us/step - loss: 0.0215 - acc: 0.9935\n",
            "Epoch 8/25\n",
            "60000/60000 [==============================] - 2s 34us/step - loss: 0.0167 - acc: 0.9951\n",
            "Epoch 9/25\n",
            "60000/60000 [==============================] - 2s 35us/step - loss: 0.0128 - acc: 0.9963\n",
            "Epoch 10/25\n",
            "60000/60000 [==============================] - 2s 35us/step - loss: 0.0095 - acc: 0.9974\n",
            "Epoch 11/25\n",
            "60000/60000 [==============================] - 2s 36us/step - loss: 0.0078 - acc: 0.9980\n",
            "Epoch 12/25\n",
            "60000/60000 [==============================] - 2s 35us/step - loss: 0.0066 - acc: 0.9981\n",
            "Epoch 13/25\n",
            "60000/60000 [==============================] - 2s 35us/step - loss: 0.0046 - acc: 0.9988\n",
            "Epoch 14/25\n",
            "60000/60000 [==============================] - 2s 35us/step - loss: 0.0038 - acc: 0.9990\n",
            "Epoch 15/25\n",
            "60000/60000 [==============================] - 2s 35us/step - loss: 0.0033 - acc: 0.9991\n",
            "Epoch 16/25\n",
            "60000/60000 [==============================] - 2s 36us/step - loss: 0.0026 - acc: 0.9993\n",
            "Epoch 17/25\n",
            "60000/60000 [==============================] - 2s 36us/step - loss: 0.0021 - acc: 0.9995\n",
            "Epoch 18/25\n",
            "60000/60000 [==============================] - 2s 35us/step - loss: 0.0017 - acc: 0.9996\n",
            "Epoch 19/25\n",
            "60000/60000 [==============================] - 2s 34us/step - loss: 0.0015 - acc: 0.9997\n",
            "Epoch 20/25\n",
            "60000/60000 [==============================] - 2s 36us/step - loss: 0.0012 - acc: 0.9998\n",
            "Epoch 21/25\n",
            "60000/60000 [==============================] - 2s 35us/step - loss: 9.9601e-04 - acc: 0.9998\n",
            "Epoch 22/25\n",
            "60000/60000 [==============================] - 2s 34us/step - loss: 8.4394e-04 - acc: 0.9998\n",
            "Epoch 23/25\n",
            "60000/60000 [==============================] - 2s 34us/step - loss: 6.3399e-04 - acc: 0.9999\n",
            "Epoch 24/25\n",
            "60000/60000 [==============================] - 2s 34us/step - loss: 6.0995e-04 - acc: 0.9999\n",
            "Epoch 25/25\n",
            "60000/60000 [==============================] - 2s 35us/step - loss: 6.2787e-04 - acc: 0.9999\n"
          ],
          "name": "stdout"
        },
        {
          "output_type": "execute_result",
          "data": {
            "text/plain": [
              "<keras.callbacks.History at 0x7f608f6edbe0>"
            ]
          },
          "metadata": {
            "tags": []
          },
          "execution_count": 35
        }
      ]
    },
    {
      "cell_type": "code",
      "metadata": {
        "id": "MeyKHGppxLRh",
        "colab_type": "code",
        "colab": {
          "base_uri": "https://localhost:8080/",
          "height": 34
        },
        "outputId": "a28a5444-84a8-43b5-fc5e-b0a0d822451f"
      },
      "source": [
        "test_loss , test_accuracy = network.evaluate(test_images,test_labels)"
      ],
      "execution_count": 37,
      "outputs": [
        {
          "output_type": "stream",
          "text": [
            "10000/10000 [==============================] - 1s 52us/step\n"
          ],
          "name": "stdout"
        }
      ]
    },
    {
      "cell_type": "code",
      "metadata": {
        "id": "AjyVsMk2xLOl",
        "colab_type": "code",
        "colab": {
          "base_uri": "https://localhost:8080/",
          "height": 34
        },
        "outputId": "b7f967af-4a55-4bed-eed1-94baa8f5a6df"
      },
      "source": [
        "print(test_accuracy , test_loss)"
      ],
      "execution_count": 39,
      "outputs": [
        {
          "output_type": "stream",
          "text": [
            "0.983 0.10308817955533207\n"
          ],
          "name": "stdout"
        }
      ]
    }
  ]
}